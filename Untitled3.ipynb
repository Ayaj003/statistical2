{
  "nbformat": 4,
  "nbformat_minor": 0,
  "metadata": {
    "colab": {
      "provenance": [],
      "mount_file_id": "19XGYyanu1S2BL1H-bz8_2a3-CrcD_fsi",
      "authorship_tag": "ABX9TyNTbv5+OWVnXvYyXcmEkIi3",
      "include_colab_link": true
    },
    "kernelspec": {
      "name": "python3",
      "display_name": "Python 3"
    },
    "language_info": {
      "name": "python"
    }
  },
  "cells": [
    {
      "cell_type": "markdown",
      "metadata": {
        "id": "view-in-github",
        "colab_type": "text"
      },
      "source": [
        "<a href=\"https://colab.research.google.com/github/Ayaj003/statistical2/blob/main/Untitled3.ipynb\" target=\"_parent\"><img src=\"https://colab.research.google.com/assets/colab-badge.svg\" alt=\"Open In Colab\"/></a>"
      ]
    },
    {
      "cell_type": "code",
      "execution_count": 2,
      "metadata": {
        "id": "XICCmzr-VBeT"
      },
      "outputs": [],
      "source": [
        "import pandas as pd \n",
        "import numpy as np\n",
        "import matplotlib.pyplot as plt\n",
        "import scipy.stats as stats"
      ]
    },
    {
      "cell_type": "code",
      "source": [
        "#df = pd.read_csv('/content/drive/MyDrive/yellow_tripdata_2019-02.csv')\n"
      ],
      "metadata": {
        "id": "rRVLgM5MVIP4"
      },
      "execution_count": 9,
      "outputs": []
    },
    {
      "cell_type": "code",
      "source": [
        "#df.info()"
      ],
      "metadata": {
        "id": "QhkRQKxSWHpx"
      },
      "execution_count": 104,
      "outputs": []
    },
    {
      "cell_type": "code",
      "source": [
        "def different(df):\n",
        "    df['The_trip_duration_min'] = (pd.to_datetime(df['tpep_pickup_datetime']) - pd.to_datetime(df['tpep_dropoff_datetime']))      \n",
        "    df['The_trip_duration_min'] = (df['The_trip_duration_min'].dt.seconds.div(60).astype(int) + df['The_trip_duration_min'].dt.days.multiply(1440).astype(int) ) \n",
        "    return df"
      ],
      "metadata": {
        "id": "xxxDVnZdW6Sl"
      },
      "execution_count": 3,
      "outputs": []
    },
    {
      "cell_type": "code",
      "source": [
        "#df = different(df)\n",
        "#df"
      ],
      "metadata": {
        "id": "LcknR34Wzz3g"
      },
      "execution_count": 258,
      "outputs": []
    },
    {
      "cell_type": "code",
      "source": [
        "def hour_day(df):\n",
        "    df['hour_of_the_day'] = pd.to_datetime(df['tpep_pickup_datetime']).apply(lambda x: x.strftime(\"%H\"))\n",
        "    df['day_of_the_week'] = pd.to_datetime(df['tpep_pickup_datetime']).apply(lambda x: x.strftime(\"%A\"))\n",
        "    return df"
      ],
      "metadata": {
        "id": "rXxOfq1F5p64"
      },
      "execution_count": 4,
      "outputs": []
    },
    {
      "cell_type": "code",
      "source": [
        "#df = hour_day(df)\n",
        "#df"
      ],
      "metadata": {
        "id": "2R4C9byt7-ME"
      },
      "execution_count": 260,
      "outputs": []
    },
    {
      "cell_type": "code",
      "source": [
        "def pred(df):\n",
        "    predictions =df.groupby(['PULocationID', 'DOLocationID', 'day_of_the_week','hour_of_the_day']).agg({'The_trip_duration_min':['mean']})\n",
        "    \n",
        "    return predictions "
      ],
      "metadata": {
        "id": "trjqOsLn9edH"
      },
      "execution_count": 5,
      "outputs": []
    },
    {
      "cell_type": "code",
      "source": [
        "#predictions = pred(df)"
      ],
      "metadata": {
        "id": "Z10kOHZL9_jh"
      },
      "execution_count": 271,
      "outputs": []
    },
    {
      "cell_type": "code",
      "source": [
        "def read(dataset):\n",
        "    df = pd.read_csv('/content/drive/MyDrive/yellow_tripdata_2019-02.csv')\n",
        "    df = different(df)\n",
        "    df = hour_day(df)\n",
        "    predictions = pred(df)\n",
        "    \n",
        "    return predictions"
      ],
      "metadata": {
        "id": "XgtDqeO2AesU"
      },
      "execution_count": 6,
      "outputs": []
    },
    {
      "cell_type": "code",
      "source": [
        "prediction = read('/content/drive/MyDrive/yellow_tripdata_2019-02.csv')"
      ],
      "metadata": {
        "id": "gv0Tl-VAAq5u"
      },
      "execution_count": 7,
      "outputs": []
    },
    {
      "cell_type": "code",
      "source": [
        "z_value = stats.norm.ppf(0.9505)\n",
        "z_value"
      ],
      "metadata": {
        "colab": {
          "base_uri": "https://localhost:8080/"
        },
        "id": "g83AQL8-rZzp",
        "outputId": "45fa8089-cb57-4dc6-affb-a8726d6e0e57"
      },
      "execution_count": 10,
      "outputs": [
        {
          "output_type": "execute_result",
          "data": {
            "text/plain": [
              "1.649721063683362"
            ]
          },
          "metadata": {},
          "execution_count": 10
        }
      ]
    },
    {
      "cell_type": "code",
      "source": [
        "#خرابيش\n",
        "C = 0.95\n",
        "z = (1 - C) / 2\n",
        "z_value = stats.norm.ppf(C)\n",
        "mu=prediction['The_trip_duration_min']\n",
        "sigma=np.std(prediction['The_trip_duration_min'])\n",
        "sample_size=200000\n",
        "x=np.linspace(mu-3*sigma, mu+3*sigma, sample_size)\n",
        "margin_of_error= z_value*(sigma/np.sqrt(sample_size))\n",
        "margin_of_error"
      ],
      "metadata": {
        "id": "XLjGRaOfCFQE"
      },
      "execution_count": null,
      "outputs": []
    }
  ]
}